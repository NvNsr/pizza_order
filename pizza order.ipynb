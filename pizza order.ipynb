{
 "cells": [
  {
   "cell_type": "code",
   "execution_count": null,
   "metadata": {},
   "outputs": [
    {
     "name": "stdout",
     "output_type": "stream",
     "text": [
      "Pizzaa Order\n",
      "\n",
      "\n",
      "['large', 'medium', 'small']\n",
      "enter pizza size:  large\n",
      "['fajita', 'tikka', 'mexican']\n",
      "enter pizza flavour:  fahita\n",
      "['extra olives', 'extra cheese', 'extra herbs']\n",
      "enter topping:  extra cheese\n",
      "\n",
      "\n",
      "YOUR ORDER IS\n",
      "size: large\n",
      "flavour: fahita\n",
      "topping: extra cheese\n",
      "\n",
      "\n",
      "['large', 'medium', 'small']\n"
     ]
    }
   ],
   "source": [
    "available_flavour=['fajita','tikka','mexican']\n",
    "available_size=[\"large\",\"medium\",\"small\"]\n",
    "available_toppings=[\"extra olives\",\"extra cheese\",\"extra herbs\"]\n",
    "print(\"Pizzaa Order\")\n",
    "print()\n",
    "print()\n",
    "flag=True\n",
    "while flag:\n",
    "    print(available_size)\n",
    "    size=input(\"enter pizza size:  \")\n",
    "    print(available_flavour)\n",
    "    flavour=input(\"enter pizza flavour:  \")\n",
    "    print(available_toppings)\n",
    "    toppings=input(\"enter topping:  \")\n",
    "    print()\n",
    "    print()\n",
    "    print(\"YOUR ORDER IS\")\n",
    "    print(\"size:\",size)\n",
    "    print(\"flavour:\",flavour)\n",
    "    print(\"topping:\",toppings)\n",
    "    print()\n",
    "    print()\n",
    "        "
   ]
  },
  {
   "cell_type": "code",
   "execution_count": null,
   "metadata": {},
   "outputs": [],
   "source": []
  }
 ],
 "metadata": {
  "kernelspec": {
   "display_name": "Python 3",
   "language": "python",
   "name": "python3"
  },
  "language_info": {
   "codemirror_mode": {
    "name": "ipython",
    "version": 3
   },
   "file_extension": ".py",
   "mimetype": "text/x-python",
   "name": "python",
   "nbconvert_exporter": "python",
   "pygments_lexer": "ipython3",
   "version": "3.6.4"
  }
 },
 "nbformat": 4,
 "nbformat_minor": 2
}
