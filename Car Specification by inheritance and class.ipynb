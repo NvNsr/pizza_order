{
 "cells": [
  {
   "cell_type": "code",
   "execution_count": 8,
   "metadata": {},
   "outputs": [],
   "source": [
    "class Battery():\n",
    "    def __init__(self,price,size):\n",
    "        self.price=price\n",
    "        self.size=size\n",
    "        \n",
    "    def getBattery(self):\n",
    "        print(f'the battery size is {self.size}')\n",
    "        \n",
    "    def setBattery(self,new_size):\n",
    "        self.size=new_size\n",
    "        \n",
    "    def priceBattery(self):\n",
    "        print(f'the battery price is {self.price}')\n",
    "    \n",
    "    \n",
    "    "
   ]
  },
  {
   "cell_type": "code",
   "execution_count": 9,
   "metadata": {},
   "outputs": [],
   "source": [
    "class Car():\n",
    "    def __init__(self,brand,price,year):\n",
    "        self.brand=brand\n",
    "        self.price=price\n",
    "        self.year=year\n",
    "        self.battery=Battery(6000,4500)\n",
    "    \n",
    "    def speed(self):\n",
    "        print(f\"The speed of {self.brand} is very good\")\n",
    "        \n",
    "    def descCar(self):\n",
    "        print(f'Description: {self.brand}, {self.price} and {self.year}')"
   ]
  },
  {
   "cell_type": "code",
   "execution_count": 10,
   "metadata": {},
   "outputs": [],
   "source": [
    "C1=Car(\"Toyota\",'300K',2018)"
   ]
  },
  {
   "cell_type": "code",
   "execution_count": 11,
   "metadata": {},
   "outputs": [
    {
     "name": "stdout",
     "output_type": "stream",
     "text": [
      "The speed of Toyota is very good\n"
     ]
    }
   ],
   "source": [
    "C1.speed()"
   ]
  },
  {
   "cell_type": "code",
   "execution_count": 12,
   "metadata": {},
   "outputs": [
    {
     "name": "stdout",
     "output_type": "stream",
     "text": [
      "the battery size is 4500\n"
     ]
    }
   ],
   "source": [
    "C1.battery.getBattery()"
   ]
  },
  {
   "cell_type": "code",
   "execution_count": 13,
   "metadata": {},
   "outputs": [],
   "source": [
    "C1.battery.setBattery(3444)"
   ]
  },
  {
   "cell_type": "code",
   "execution_count": 14,
   "metadata": {},
   "outputs": [
    {
     "name": "stdout",
     "output_type": "stream",
     "text": [
      "the battery size is 3444\n"
     ]
    }
   ],
   "source": [
    "C1.battery.getBattery()"
   ]
  },
  {
   "cell_type": "code",
   "execution_count": 15,
   "metadata": {},
   "outputs": [
    {
     "name": "stdout",
     "output_type": "stream",
     "text": [
      "the battery price is 6000\n"
     ]
    }
   ],
   "source": [
    "C1.battery.priceBattery()"
   ]
  },
  {
   "cell_type": "code",
   "execution_count": 16,
   "metadata": {},
   "outputs": [
    {
     "name": "stdout",
     "output_type": "stream",
     "text": [
      "Description: Toyota, 300K and 2018\n"
     ]
    }
   ],
   "source": [
    "C1.descCar()"
   ]
  },
  {
   "cell_type": "code",
   "execution_count": null,
   "metadata": {},
   "outputs": [],
   "source": []
  }
 ],
 "metadata": {
  "kernelspec": {
   "display_name": "Python 3",
   "language": "python",
   "name": "python3"
  },
  "language_info": {
   "codemirror_mode": {
    "name": "ipython",
    "version": 3
   },
   "file_extension": ".py",
   "mimetype": "text/x-python",
   "name": "python",
   "nbconvert_exporter": "python",
   "pygments_lexer": "ipython3",
   "version": "3.6.4"
  }
 },
 "nbformat": 4,
 "nbformat_minor": 2
}
